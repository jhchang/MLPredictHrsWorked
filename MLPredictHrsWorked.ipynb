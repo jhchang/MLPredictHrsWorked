{
  "nbformat": 4,
  "nbformat_minor": 0,
  "metadata": {
    "colab": {
      "name": "MLPredictHrsWorked.ipynb",
      "provenance": [],
      "collapsed_sections": [],
      "include_colab_link": true
    },
    "kernelspec": {
      "name": "python3",
      "display_name": "Python 3"
    }
  },
  "cells": [
    {
      "cell_type": "markdown",
      "metadata": {
        "id": "view-in-github",
        "colab_type": "text"
      },
      "source": [
        "<a href=\"https://colab.research.google.com/github/jhchang/MLPredictHrsWorked/blob/master/MLPredictHrsWorked.ipynb\" target=\"_parent\"><img src=\"https://colab.research.google.com/assets/colab-badge.svg\" alt=\"Open In Colab\"/></a>"
      ]
    },
    {
      "cell_type": "markdown",
      "metadata": {
        "id": "RJrOzFrFITOU",
        "colab_type": "text"
      },
      "source": [
        "## This project is based on Google's Machine Learning course\n",
        "\n",
        "I will be working with the [Adult Census Income dataset](https://archive.ics.uci.edu/ml/datasets/Census+Income), which is commonly used in machine learning literature. This data was extracted from the [1994 Census bureau database](http://www.census.gov/en.html) by Ronny Kohavi and Barry Becker.\n",
        "\n",
        "Each example in the dataset contains the following demographic data for a set of individuals who took part in the 1994 Census:\n",
        "\n",
        "### Numeric Features\n",
        "*   `age`: The age of the individual in years.\n",
        "*   `fnlwgt`: The number of individuals the Census Organizations believes that set of observations represents.\n",
        "*   `education_num`:  An enumeration of the categorical representation of education. The higher the number, the higher the education that individual achieved. For example, an `education_num` of `11` represents `Assoc_voc` (associate degree at a vocational school), an `education_num` of `13` represents `Bachelors`, and an `education_num` of `9` represents `HS-grad` (high school graduate).\n",
        "*   `capital_gain`: Capital gain made by the individual, represented in US Dollars.\n",
        "*   `capital_loss`: Capital loss mabe by the individual, represented in US Dollars.\n",
        "\n",
        "### Categorical Features\n",
        "*   `workclass`: The individual's type of employer. Examples include: `Private`, `Self-emp-not-inc`, `Self-emp-inc`, `Federal-gov`, `Local-gov`, `State-gov`, `Without-pay`, and `Never-worked`.\n",
        "*   `education`: The highest level of education achieved for that individual.\n",
        "*   `marital_status`: Marital status of the individual. Examples include: `Married-civ-spouse`, `Divorced`, `Never-married`, `Separated`, `Widowed`, `Married-spouse-absent`, and `Married-AF-spouse`.\n",
        "*   `occupation`: The occupation of the individual. Example include: `tech-support`, `Craft-repair`, `Other-service`, `Sales`, `Exec-managerial` and more.\n",
        "*   `relationship`:  The relationship of each individual in a household. Examples include: `Wife`, `Own-child`, `Husband`, `Not-in-family`, `Other-relative`, and `Unmarried`.\n",
        "*   `gender`:  Gender of the individual available only in binary choices: `Female` or `Male`.\n",
        "*   `race`: `White`, `Asian-Pac-Islander`, `Amer-Indian-Eskimo`, `Black`, and `Other`. \n",
        "*   `native_country`: Country of origin of the individual. Examples include: `United-States`, `Cambodia`, `England`, `Puerto-Rico`, `Canada`, `Germany`, `Outlying-US(Guam-USVI-etc)`, `India`, `Japan`, `United-States`, `Cambodia`, `England`, `Puerto-Rico`, `Canada`, `Germany`, `Outlying-US(Guam-USVI-etc)`, `India`, `Japan`, and more.\n",
        "\n",
        "### Prediction Task\n",
        "The prediction task is to determine how many hours someone works per week\n",
        "\n",
        "### Label\n",
        "*   `hours_per_week`: Hours worked per week.\n",
        "\n",
        "### Notes on Data Collection\n",
        "\n",
        "All the examples extracted for this dataset meet the following conditions: \n",
        "*   `age` is 16 years or older.\n",
        "*   The adjusted gross income (used to calculate `income_bracket`) is greater than $100 USD annually.\n",
        "*   `fnlwgt` is greater than 0.\n",
        "*   `hours_per_week` is greater than 0.\n",
        "\n",
        "\n",
        "\n",
        "\n"
      ]
    },
    {
      "cell_type": "markdown",
      "metadata": {
        "id": "sn2qAkQlXc6j",
        "colab_type": "text"
      },
      "source": [
        "## Setup"
      ]
    },
    {
      "cell_type": "code",
      "metadata": {
        "id": "11bLdZDwXa7H",
        "colab_type": "code",
        "colab": {}
      },
      "source": [
        "import os\n",
        "import numpy as np\n",
        "import matplotlib.pyplot as plt\n",
        "import pandas as pd\n",
        "%tensorflow_version 1.x\n",
        "import tensorflow as tf\n",
        "import tempfile\n",
        "!pip install seaborn==0.8.1\n",
        "import seaborn as sns\n",
        "import itertools\n",
        "from sklearn.metrics import confusion_matrix\n",
        "from sklearn.metrics import roc_curve, roc_auc_score\n",
        "from sklearn.metrics import precision_recall_curve\n",
        "from google.colab import widgets\n",
        "# For facets\n",
        "from IPython.core.display import display, HTML\n",
        "import base64\n",
        "!pip install facets-overview==1.0.0\n",
        "from facets_overview.feature_statistics_generator import FeatureStatisticsGenerator\n",
        "\n",
        "print('Modules are imported.')"
      ],
      "execution_count": 0,
      "outputs": []
    },
    {
      "cell_type": "markdown",
      "metadata": {
        "id": "WNh5ky6OX-nq",
        "colab_type": "text"
      },
      "source": [
        "### Load the Adult Dataset\n",
        "Load and convert the data into pandas dataframes"
      ]
    },
    {
      "cell_type": "code",
      "metadata": {
        "id": "OcQ0yEncYOUv",
        "colab_type": "code",
        "colab": {}
      },
      "source": [
        "COLUMNS = [\"age\", \"workclass\", \"fnlwgt\", \"education\", \"education_num\",\n",
        "           \"marital_status\", \"occupation\", \"relationship\", \"race\", \"gender\",\n",
        "           \"capital_gain\", \"capital_loss\", \"hours_per_week\", \"native_country\",\n",
        "           \"income_bracket\"]\n",
        "\n",
        "train_df = pd.read_csv(\n",
        "    \"https://archive.ics.uci.edu/ml/machine-learning-databases/adult/adult.data\",\n",
        "    names=COLUMNS,\n",
        "    sep=r'\\s*,\\s*',\n",
        "    engine='python',\n",
        "    na_values=\"?\")\n",
        "test_df = pd.read_csv(\n",
        "    \"https://archive.ics.uci.edu/ml/machine-learning-databases/adult/adult.test\",\n",
        "    names=COLUMNS,\n",
        "    sep=r'\\s*,\\s*',\n",
        "    skiprows=[0],\n",
        "    engine='python',\n",
        "    na_values=\"?\")\n",
        "\n",
        "# Drop rows with missing values\n",
        "train_df = train_df.dropna(how=\"any\", axis=0)\n",
        "test_df = test_df.dropna(how=\"any\", axis=0)\n",
        "\n",
        "print('UCI Adult Census Income dataset loaded.')"
      ],
      "execution_count": 0,
      "outputs": []
    }
  ]
}